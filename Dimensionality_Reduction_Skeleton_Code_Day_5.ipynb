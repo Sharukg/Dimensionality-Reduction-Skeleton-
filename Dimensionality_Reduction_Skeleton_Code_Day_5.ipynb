{
  "nbformat": 4,
  "nbformat_minor": 0,
  "metadata": {
    "colab": {
      "provenance": []
    },
    "kernelspec": {
      "name": "python3",
      "display_name": "Python 3"
    },
    "language_info": {
      "name": "python"
    }
  },
  "cells": [
    {
      "cell_type": "markdown",
      "source": [
        "Skeleton Code"
      ],
      "metadata": {
        "id": "vrJdqD8pkQAi"
      }
    },
    {
      "cell_type": "code",
      "source": [
        "import requests\n",
        "from bs4 import BeautifulSoup\n",
        "import zipfile\n",
        "import io\n",
        "import pandas as pd\n",
        "from sklearn.cluster import KMeans\n",
        "from sklearn.model_selection import train_test_split\n",
        "from sklearn.preprocessing import LabelEncoder, StandardScaler\n",
        "from sklearn.linear_model import LogisticRegression\n",
        "from sklearn.pipeline import Pipeline\n",
        "from sklearn.metrics import accuracy_score, classification_report\n",
        "import numpy as np\n",
        "import time\n",
        "\n",
        "# Function to download and load dataset\n",
        "def load_data():\n",
        "    page_url = 'https://archive.ics.uci.edu/dataset/240/human+activity+recognition+using+smartphones'\n",
        "    page_response = requests.get(page_url)\n",
        "    if page_response.status_code == 200:\n",
        "        soup = BeautifulSoup(page_response.content, 'html.parser')\n",
        "        download_link = soup.select_one('a[href$=\".zip\"]')['href']\n",
        "        full_download_url = 'https://archive.ics.uci.edu' + download_link\n",
        "        response = requests.get(full_download_url)\n",
        "        if response.status_code == 200:\n",
        "            with zipfile.ZipFile(io.BytesIO(response.content)) as outer_zip:\n",
        "                inner_zip_name = 'UCI HAR Dataset.zip'\n",
        "                with outer_zip.open(inner_zip_name) as inner_zip_file:\n",
        "                    with zipfile.ZipFile(io.BytesIO(inner_zip_file.read())) as inner_zip:\n",
        "                        with inner_zip.open('UCI HAR Dataset/train/X_train.txt') as myfile:\n",
        "                            df = pd.read_csv(myfile, delim_whitespace=True, header=None)\n",
        "                        with inner_zip.open('UCI HAR Dataset/train/y_train.txt') as myfile_y:\n",
        "                            y = pd.read_csv(myfile_y, delim_whitespace=True, header=None)\n",
        "    else:\n",
        "        raise Exception(\"Failed to download or parse the dataset.\")\n",
        "    return df, y"
      ],
      "metadata": {
        "id": "6Ffvx4__VXbF"
      },
      "execution_count": 2,
      "outputs": []
    },
    {
      "cell_type": "code",
      "source": [
        "import pandas as pd\n",
        "from sklearn.model_selection import train_test_split\n",
        "from sklearn.preprocessing import LabelEncoder, StandardScaler\n",
        "from sklearn.linear_model import LogisticRegression\n",
        "from sklearn.pipeline import Pipeline\n",
        "from sklearn.metrics import accuracy_score\n",
        "from sklearn.cluster import KMeans\n",
        "import numpy as np\n",
        "import time\n",
        "\n",
        "# Load dataset\n",
        "df, y = load_data()\n",
        "\n",
        "#TASK 1 - DO EDA and understand a little about the data.\n",
        "#Only important thing is to know that it has a lot of features that don't make sense, just a\n",
        "#bunch of readings from sensors.\n",
        "#We think many of these features are redundant or irrelevant, and we want to find good features.\n"
      ],
      "metadata": {
        "id": "CzSu3aGmiwPA",
        "colab": {
          "base_uri": "https://localhost:8080/"
        },
        "outputId": "3dc560dd-f788-43f5-af42-a13d525f95b9"
      },
      "execution_count": 3,
      "outputs": [
        {
          "output_type": "stream",
          "name": "stderr",
          "text": [
            "<ipython-input-2-836ccc4d8ebc>:30: FutureWarning: The 'delim_whitespace' keyword in pd.read_csv is deprecated and will be removed in a future version. Use ``sep='\\s+'`` instead\n",
            "  df = pd.read_csv(myfile, delim_whitespace=True, header=None)\n",
            "<ipython-input-2-836ccc4d8ebc>:32: FutureWarning: The 'delim_whitespace' keyword in pd.read_csv is deprecated and will be removed in a future version. Use ``sep='\\s+'`` instead\n",
            "  y = pd.read_csv(myfile_y, delim_whitespace=True, header=None)\n"
          ]
        }
      ]
    },
    {
      "cell_type": "code",
      "source": [
        "# Display basic information about the DataFrame\n",
        "print(df.info())\n",
        "\n",
        "# Display the first few rows of the DataFrame\n",
        "print(df.head())\n",
        "\n",
        "# Generate descriptive statistics\n",
        "print(df.describe())\n",
        "\n",
        "# Check for missing values\n",
        "print(df.isnull().sum())\n",
        "\n",
        "# Check the correlation between features\n",
        "print(df.corr())\n",
        "\n",
        "# Explore the target variable 'y'\n",
        "print(y.value_counts())"
      ],
      "metadata": {
        "id": "qV59H5IiH7V_",
        "colab": {
          "base_uri": "https://localhost:8080/"
        },
        "outputId": "1102e517-c2e2-4c98-e619-a78776866466"
      },
      "execution_count": 4,
      "outputs": [
        {
          "output_type": "stream",
          "name": "stdout",
          "text": [
            "<class 'pandas.core.frame.DataFrame'>\n",
            "RangeIndex: 7352 entries, 0 to 7351\n",
            "Columns: 561 entries, 0 to 560\n",
            "dtypes: float64(561)\n",
            "memory usage: 31.5 MB\n",
            "None\n",
            "        0         1         2         3         4         5         6    \\\n",
            "0  0.288585 -0.020294 -0.132905 -0.995279 -0.983111 -0.913526 -0.995112   \n",
            "1  0.278419 -0.016411 -0.123520 -0.998245 -0.975300 -0.960322 -0.998807   \n",
            "2  0.279653 -0.019467 -0.113462 -0.995380 -0.967187 -0.978944 -0.996520   \n",
            "3  0.279174 -0.026201 -0.123283 -0.996091 -0.983403 -0.990675 -0.997099   \n",
            "4  0.276629 -0.016570 -0.115362 -0.998139 -0.980817 -0.990482 -0.998321   \n",
            "\n",
            "        7         8         9    ...       551       552       553       554  \\\n",
            "0 -0.983185 -0.923527 -0.934724  ... -0.074323 -0.298676 -0.710304 -0.112754   \n",
            "1 -0.974914 -0.957686 -0.943068  ...  0.158075 -0.595051 -0.861499  0.053477   \n",
            "2 -0.963668 -0.977469 -0.938692  ...  0.414503 -0.390748 -0.760104 -0.118559   \n",
            "3 -0.982750 -0.989302 -0.938692  ...  0.404573 -0.117290 -0.482845 -0.036788   \n",
            "4 -0.979672 -0.990441 -0.942469  ...  0.087753 -0.351471 -0.699205  0.123320   \n",
            "\n",
            "        555       556       557       558       559       560  \n",
            "0  0.030400 -0.464761 -0.018446 -0.841247  0.179941 -0.058627  \n",
            "1 -0.007435 -0.732626  0.703511 -0.844788  0.180289 -0.054317  \n",
            "2  0.177899  0.100699  0.808529 -0.848933  0.180637 -0.049118  \n",
            "3 -0.012892  0.640011 -0.485366 -0.848649  0.181935 -0.047663  \n",
            "4  0.122542  0.693578 -0.615971 -0.847865  0.185151 -0.043892  \n",
            "\n",
            "[5 rows x 561 columns]\n",
            "               0            1            2            3            4    \\\n",
            "count  7352.000000  7352.000000  7352.000000  7352.000000  7352.000000   \n",
            "mean      0.274488    -0.017695    -0.109141    -0.605438    -0.510938   \n",
            "std       0.070261     0.040811     0.056635     0.448734     0.502645   \n",
            "min      -1.000000    -1.000000    -1.000000    -1.000000    -0.999873   \n",
            "25%       0.262975    -0.024863    -0.120993    -0.992754    -0.978129   \n",
            "50%       0.277193    -0.017219    -0.108676    -0.946196    -0.851897   \n",
            "75%       0.288461    -0.010783    -0.097794    -0.242813    -0.034231   \n",
            "max       1.000000     1.000000     1.000000     1.000000     0.916238   \n",
            "\n",
            "               5            6            7            8            9    ...  \\\n",
            "count  7352.000000  7352.000000  7352.000000  7352.000000  7352.000000  ...   \n",
            "mean     -0.604754    -0.630512    -0.526907    -0.606150    -0.468604  ...   \n",
            "std       0.418687     0.424073     0.485942     0.414122     0.544547  ...   \n",
            "min      -1.000000    -1.000000    -1.000000    -1.000000    -1.000000  ...   \n",
            "25%      -0.980233    -0.993591    -0.978162    -0.980251    -0.936219  ...   \n",
            "50%      -0.859365    -0.950709    -0.857328    -0.857143    -0.881637  ...   \n",
            "75%      -0.262415    -0.292680    -0.066701    -0.265671    -0.017129  ...   \n",
            "max       1.000000     1.000000     0.967664     1.000000     1.000000  ...   \n",
            "\n",
            "               551          552          553          554          555  \\\n",
            "count  7352.000000  7352.000000  7352.000000  7352.000000  7352.000000   \n",
            "mean      0.125293    -0.307009    -0.625294     0.008684     0.002186   \n",
            "std       0.250994     0.321011     0.307584     0.336787     0.448306   \n",
            "min      -1.000000    -0.995357    -0.999765    -0.976580    -1.000000   \n",
            "25%      -0.023692    -0.542602    -0.845573    -0.121527    -0.289549   \n",
            "50%       0.134000    -0.343685    -0.711692     0.009509     0.008943   \n",
            "75%       0.289096    -0.126979    -0.503878     0.150865     0.292861   \n",
            "max       0.946700     0.989538     0.956845     1.000000     1.000000   \n",
            "\n",
            "               556          557          558          559          560  \n",
            "count  7352.000000  7352.000000  7352.000000  7352.000000  7352.000000  \n",
            "mean      0.008726    -0.005981    -0.489547     0.058593    -0.056515  \n",
            "std       0.608303     0.477975     0.511807     0.297480     0.279122  \n",
            "min      -1.000000    -1.000000    -1.000000    -1.000000    -1.000000  \n",
            "25%      -0.482273    -0.376341    -0.812065    -0.017885    -0.143414  \n",
            "50%       0.008735    -0.000368    -0.709417     0.182071     0.003181  \n",
            "75%       0.506187     0.359368    -0.509079     0.248353     0.107659  \n",
            "max       0.998702     0.996078     1.000000     0.478157     1.000000  \n",
            "\n",
            "[8 rows x 561 columns]\n",
            "0      0\n",
            "1      0\n",
            "2      0\n",
            "3      0\n",
            "4      0\n",
            "      ..\n",
            "556    0\n",
            "557    0\n",
            "558    0\n",
            "559    0\n",
            "560    0\n",
            "Length: 561, dtype: int64\n",
            "          0         1         2         3         4         5         6    \\\n",
            "0    1.000000  0.148061 -0.256952  0.000619 -0.021903 -0.044617  0.006290   \n",
            "1    0.148061  1.000000 -0.078769 -0.045160 -0.044920 -0.049746 -0.044180   \n",
            "2   -0.256952 -0.078769  1.000000 -0.020217 -0.016641 -0.008410 -0.018747   \n",
            "3    0.000619 -0.045160 -0.020217  1.000000  0.927461  0.851668  0.998632   \n",
            "4   -0.021903 -0.044920 -0.016641  0.927461  1.000000  0.895510  0.922803   \n",
            "..        ...       ...       ...       ...       ...       ...       ...   \n",
            "556  0.037444  0.017967 -0.063609  0.018985 -0.008507 -0.018429  0.019389   \n",
            "557  0.028844  0.075679 -0.034037 -0.024810 -0.014592 -0.006471 -0.024951   \n",
            "558 -0.035257 -0.005309  0.008587 -0.371653 -0.380531 -0.345011 -0.368191   \n",
            "559  0.034371  0.001053 -0.015288  0.471065  0.523600  0.476006  0.466424   \n",
            "560  0.028242 -0.013903 -0.022643  0.394825  0.433169  0.482828  0.390922   \n",
            "\n",
            "          7         8         9    ...       551       552       553  \\\n",
            "0   -0.022754 -0.047558  0.044062  ...  0.030681 -0.017557 -0.015613   \n",
            "1   -0.045049 -0.050402 -0.038108  ... -0.022395 -0.001587 -0.004459   \n",
            "2   -0.015203 -0.001988 -0.037197  ... -0.020481  0.020091  0.019127   \n",
            "3    0.920888  0.846392  0.980844  ... -0.065987  0.148034  0.115565   \n",
            "4    0.997347  0.894509  0.917366  ... -0.105621  0.206227  0.176946   \n",
            "..        ...       ...       ...  ...       ...       ...       ...   \n",
            "556 -0.012546 -0.023525  0.025066  ... -0.026615  0.034514  0.024553   \n",
            "557 -0.012341 -0.007231 -0.028871  ...  0.000102 -0.017937 -0.014865   \n",
            "558 -0.377025 -0.347389 -0.384192  ...  0.087332 -0.086006 -0.079751   \n",
            "559  0.525081  0.477607  0.480229  ... -0.100125  0.086993  0.078079   \n",
            "560  0.431459  0.479751  0.405023  ... -0.057468  0.057831  0.052548   \n",
            "\n",
            "          554       555       556       557       558       559       560  \n",
            "0   -0.544320  0.012173  0.037444  0.028844 -0.035257  0.034371  0.028242  \n",
            "1    0.070559 -0.013541  0.017967  0.075679 -0.005309  0.001053 -0.013903  \n",
            "2    0.052841 -0.039836 -0.063609 -0.034037  0.008587 -0.015288 -0.022643  \n",
            "3   -0.035011 -0.021633  0.018985 -0.024810 -0.371653  0.471065  0.394825  \n",
            "4   -0.020379 -0.012505 -0.008507 -0.014592 -0.380531  0.523600  0.433169  \n",
            "..        ...       ...       ...       ...       ...       ...       ...  \n",
            "556 -0.006269  0.009141  1.000000 -0.116001 -0.005853 -0.012313 -0.019903  \n",
            "557 -0.020823  0.035263 -0.116001  1.000000  0.023995 -0.005869 -0.005656  \n",
            "558  0.011880  0.023246 -0.005853  0.023995  1.000000 -0.783848 -0.643655  \n",
            "559  0.001540 -0.012990 -0.012313 -0.005869 -0.783848  1.000000  0.594885  \n",
            "560 -0.003069 -0.017520 -0.019903 -0.005656 -0.643655  0.594885  1.000000  \n",
            "\n",
            "[561 rows x 561 columns]\n",
            "0\n",
            "6    1407\n",
            "5    1374\n",
            "4    1286\n",
            "1    1226\n",
            "2    1073\n",
            "3     986\n",
            "Name: count, dtype: int64\n"
          ]
        }
      ]
    },
    {
      "cell_type": "code",
      "source": [
        "# prompt: # Task 2: Encode class labels\n",
        "# # YOUR CODE HERE: Use LabelEncoder to encode class labels\n",
        "# label_encoder = # YOUR CODE HERE\n",
        "# encoded_y = # YOUR CODE HERE\n",
        "\n",
        "label_encoder = LabelEncoder()\n",
        "encoded_y = label_encoder.fit_transform(y.values.ravel())"
      ],
      "metadata": {
        "id": "5LjjmMR2cvGK"
      },
      "execution_count": 5,
      "outputs": []
    },
    {
      "cell_type": "code",
      "source": [
        "# prompt: # Task 3: Scale the features using StandardScaler\n",
        "# # YOUR CODE HERE: Apply StandardScaler to df\n",
        "# scaler = # YOUR CODE HERE\n",
        "# df_scaled = # YOUR CODE HERE\n",
        "\n",
        "scaler = StandardScaler()\n",
        "df_scaled = scaler.fit_transform(df)"
      ],
      "metadata": {
        "id": "wzAqAPLmdGtY"
      },
      "execution_count": 6,
      "outputs": []
    },
    {
      "cell_type": "code",
      "source": [
        "# prompt: # Task 4: Split the data into training and testing sets\n",
        "# # YOUR CODE HERE: Use train_test_split to split the data\n",
        "# X_train_full, X_test_full, y_train, y_test = # YOUR CODE HERE\n",
        "\n",
        "X_train_full, X_test_full, y_train, y_test = train_test_split(df_scaled, encoded_y, test_size=0.2, random_state=42)"
      ],
      "metadata": {
        "id": "MDe01YzVdM2r"
      },
      "execution_count": 7,
      "outputs": []
    },
    {
      "cell_type": "code",
      "source": [
        "# prompt: #TASK 5 - 1. Create a pipeline using Gaussian Naive Bayes\n",
        "# #         2. Fit the model to the training data\n",
        "# #         3. Predict values for test set\n",
        "# #         4. Print accuracy score\n",
        "\n",
        "from sklearn.naive_bayes import GaussianNB\n",
        "\n",
        "# Create a Gaussian Naive Bayes classifier\n",
        "nb_classifier = GaussianNB()\n",
        "\n",
        "# Fit the model to the training data\n",
        "nb_classifier.fit(X_train_full, y_train)\n",
        "\n",
        "# Predict values for the test set\n",
        "y_pred = nb_classifier.predict(X_test_full)\n",
        "\n",
        "# Print the accuracy score\n",
        "accuracy = accuracy_score(y_test, y_pred)\n",
        "print(f\"Accuracy: {accuracy}\")"
      ],
      "metadata": {
        "colab": {
          "base_uri": "https://localhost:8080/"
        },
        "id": "mrz5HVEVeLHd",
        "outputId": "a53e62a0-3267-4b26-c2c7-8c36f1f5d483"
      },
      "execution_count": 8,
      "outputs": [
        {
          "output_type": "stream",
          "name": "stdout",
          "text": [
            "Accuracy: 0.7314751869476547\n"
          ]
        }
      ]
    },
    {
      "cell_type": "code",
      "source": [
        "# prompt: #TASK 5 - 1. Create a pipeline using Gaussian Naive Bayes\n",
        "# #         2. Fit the model to the training data\n",
        "# #         3. Predict values for test set\n",
        "# #         4. Print accuracy score\n",
        "\n",
        "#TASK 6 - 1. Note the start time before defining the pipeline\n",
        "#         2. Note the end time and report the difference as the time taken by the model training and inference.\n",
        "\n",
        "start_time = time.time()\n",
        "classifier_pipeline_full = Pipeline([\n",
        "    ('classifier', GaussianNB())\n",
        "])\n",
        "classifier_pipeline_full.fit(X_train_full, y_train)\n",
        "y_pred_full = classifier_pipeline_full.predict(X_test_full)\n",
        "end_time = time.time()\n",
        "full_features_time = end_time - start_time\n",
        "accuracy_full = accuracy_score(y_test, y_pred_full)"
      ],
      "metadata": {
        "id": "b_Q6eXH7eNg5"
      },
      "execution_count": 14,
      "outputs": []
    },
    {
      "cell_type": "code",
      "source": [
        "# prompt: # TASK 7 - K-Means for dimensionality reduction\n",
        "# n_clusters = #FILL\n",
        "# kmeans = #FILL\n",
        "# kmeans.fit(#FILL)  # Transpose to treat features as data points\n",
        "# selected_features_indices = #FILL\n",
        "# selected_features = #FILL\n",
        "\n",
        "n_clusters = 10\n",
        "kmeans = KMeans(n_clusters=n_clusters, random_state=42, n_init=10)\n",
        "kmeans.fit(df_scaled.T)  # Transpose to treat features as data points\n",
        "selected_features_indices = np.argmin(kmeans.inertia_)\n",
        "selected_features = df.iloc[:, selected_features_indices]"
      ],
      "metadata": {
        "id": "jSF9vI2Sg10Y"
      },
      "execution_count": 16,
      "outputs": []
    },
    {
      "cell_type": "code",
      "source": [
        "#TASK 8 - Train another model (GaussianNB) on the new dataset, and report time taken and accuracy\n",
        "\n",
        "# Instead of selecting a single feature, select all features belonging to the cluster with minimum inertia.\n",
        "# This ensures that we have a 2D array for training.\n",
        "\n",
        "cluster_labels = kmeans.labels_\n",
        "min_inertia_cluster = np.argmin(kmeans.inertia_)\n",
        "selected_features_indices = np.where(cluster_labels == min_inertia_cluster)[0]\n",
        "selected_features = df.iloc[:, selected_features_indices]\n",
        "\n",
        "# Now proceed with the training as before:\n",
        "X_train_selected, X_test_selected, _, _ = train_test_split(selected_features, encoded_y, test_size=0.2, random_state=42)\n",
        "\n",
        "start_time_selected = time.time()\n",
        "classifier_pipeline_selected = Pipeline([\n",
        "    ('classifier', GaussianNB())\n",
        "])\n",
        "classifier_pipeline_selected.fit(X_train_selected, y_train)\n",
        "y_pred_selected = classifier_pipeline_selected.predict(X_test_selected)\n",
        "end_time_selected = time.time()\n",
        "selected_features_time = end_time_selected - start_time_selected\n",
        "accuracy_selected = accuracy_score(y_test, y_pred_selected)\n",
        "\n",
        "print(f\"GaussianNB (Full Features): Time taken = {full_features_time:.4f} seconds, Accuracy = {accuracy_full:.4f}\")\n",
        "print(f\"GaussianNB (Selected Features): Time taken = {selected_features_time:.4f} seconds, Accuracy = {accuracy_selected:.4f}\")"
      ],
      "metadata": {
        "colab": {
          "base_uri": "https://localhost:8080/"
        },
        "id": "VMuWwEulvGnh",
        "outputId": "8ad6e1da-fb0b-434e-dc23-35e5fb0afedd"
      },
      "execution_count": 18,
      "outputs": [
        {
          "output_type": "stream",
          "name": "stdout",
          "text": [
            "GaussianNB (Full Features): Time taken = 0.1085 seconds, Accuracy = 0.7315\n",
            "GaussianNB (Selected Features): Time taken = 0.0233 seconds, Accuracy = 0.8042\n"
          ]
        }
      ]
    }
  ]
}